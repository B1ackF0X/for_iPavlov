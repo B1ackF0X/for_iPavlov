{
  "nbformat": 4,
  "nbformat_minor": 0,
  "metadata": {
    "colab": {
      "name": "task1_Softmax.ipynb",
      "version": "0.3.2",
      "provenance": [],
      "collapsed_sections": []
    },
    "kernelspec": {
      "display_name": "Python 3",
      "language": "python",
      "name": "python3"
    }
  },
  "cells": [
    {
      "metadata": {
        "id": "kN4GpT5fOC-I",
        "colab_type": "text"
      },
      "cell_type": "markdown",
      "source": [
        "# Softmax exercise\n",
        "\n",
        "In this exercise you will:\n",
        "\n",
        "- implement a fully-vectorized **loss function** for the Softmax classifier\n",
        "- implement the fully-vectorized expression for its **analytic gradient**\n",
        "- **check your implementation** with numerical gradient\n",
        "- use a validation set to **tune the learning rate and regularization** strength\n",
        "- **optimize** the loss function with **SGD**\n",
        "- **visualize** the final learned weights\n",
        "\n",
        "Credit: [cs231n.stanford.edu](http://cs231n.stanford.edu)"
      ]
    },
    {
      "metadata": {
        "id": "qCG3p7NRF6nq",
        "colab_type": "code",
        "outputId": "6ce8ee5a-e8c9-414f-e089-81f0f53ef7c1",
        "colab": {
          "base_uri": "https://localhost:8080/",
          "height": 124
        }
      },
      "cell_type": "code",
      "source": [
        "from google.colab import drive\n",
        "drive.mount('/content/gdrive')"
      ],
      "execution_count": 0,
      "outputs": [
        {
          "output_type": "stream",
          "text": [
            "Go to this URL in a browser: https://accounts.google.com/o/oauth2/auth?client_id=947318989803-6bn6qk8qdgf4n4g3pfee6491hc0brc4i.apps.googleusercontent.com&redirect_uri=urn%3Aietf%3Awg%3Aoauth%3A2.0%3Aoob&scope=email%20https%3A%2F%2Fwww.googleapis.com%2Fauth%2Fdocs.test%20https%3A%2F%2Fwww.googleapis.com%2Fauth%2Fdrive%20https%3A%2F%2Fwww.googleapis.com%2Fauth%2Fdrive.photos.readonly%20https%3A%2F%2Fwww.googleapis.com%2Fauth%2Fpeopleapi.readonly&response_type=code\n",
            "\n",
            "Enter your authorization code:\n",
            "··········\n",
            "Mounted at /content/gdrive\n"
          ],
          "name": "stdout"
        }
      ]
    },
    {
      "metadata": {
        "id": "8TjyZzpIOC-X",
        "colab_type": "code",
        "colab": {}
      },
      "cell_type": "code",
      "source": [
        "import sys\n",
        "sys.path.append(\"/content/gdrive/My Drive/Colab Notebooks/backpropagation_workshop\")\n",
        "\n",
        "import random\n",
        "import numpy as np\n",
        "#from cs231n.data_utils import load_CIFAR10\n",
        "from cs231n.data_utils import load_CIFAR10\n",
        "import matplotlib.pyplot as plt\n",
        "\n",
        "%matplotlib inline\n",
        "plt.rcParams['figure.figsize'] = (10.0, 8.0) # set default size of plots\n",
        "plt.rcParams['image.interpolation'] = 'nearest'\n",
        "plt.rcParams['image.cmap'] = 'gray'\n",
        "\n",
        "# for auto-reloading extenrnal modules\n",
        "# see http://stackoverflow.com/questions/1907993/autoreload-of-modules-in-ipython\n",
        "%load_ext autoreload\n",
        "%autoreload 2"
      ],
      "execution_count": 0,
      "outputs": []
    },
    {
      "metadata": {
        "id": "ny8AT2l-OC-7",
        "colab_type": "code",
        "outputId": "cd0c6a03-87d0-4a7c-ed84-b7457cdb2431",
        "colab": {
          "base_uri": "https://localhost:8080/",
          "height": 156
        }
      },
      "cell_type": "code",
      "source": [
        "def get_CIFAR10_data(num_training=49000, num_validation=1000, num_test=1000, num_dev=500):\n",
        "    \"\"\"\n",
        "    Load the CIFAR-10 dataset from disk and perform preprocessing to prepare\n",
        "    it for the linear classifier.\n",
        "    \"\"\"\n",
        "    # Load the raw CIFAR-10 data\n",
        "    #cifar10_dir = 'cs231n/datasets/cifar-10-batches-py'\n",
        "    cifar10_dir = '/content/gdrive/My Drive/Colab Notebooks/backpropagation_workshop/cs231n/datasets/cifar-10-batches-py'\n",
        "    \n",
        "    X_train, y_train, X_test, y_test = load_CIFAR10(cifar10_dir)\n",
        "    \n",
        "    # subsample the data\n",
        "    mask = list(range(num_training, num_training + num_validation))\n",
        "    X_val = X_train[mask]\n",
        "    y_val = y_train[mask]\n",
        "    mask = list(range(num_training))\n",
        "    X_train = X_train[mask]\n",
        "    y_train = y_train[mask]\n",
        "    mask = list(range(num_test))\n",
        "    X_test = X_test[mask]\n",
        "    y_test = y_test[mask]\n",
        "    mask = np.random.choice(num_training, num_dev, replace=False)\n",
        "    X_dev = X_train[mask]\n",
        "    y_dev = y_train[mask]\n",
        "    \n",
        "    # Preprocessing: reshape the image data into rows\n",
        "    X_train = np.reshape(X_train, (X_train.shape[0], -1))\n",
        "    X_val = np.reshape(X_val, (X_val.shape[0], -1))\n",
        "    X_test = np.reshape(X_test, (X_test.shape[0], -1))\n",
        "    X_dev = np.reshape(X_dev, (X_dev.shape[0], -1))\n",
        "    \n",
        "    # Normalize the data: subtract the mean image\n",
        "    mean_image = np.mean(X_train, axis = 0)\n",
        "    X_train -= mean_image\n",
        "    X_val -= mean_image\n",
        "    X_test -= mean_image\n",
        "    X_dev -= mean_image\n",
        "    \n",
        "    # add bias dimension and transform into columns\n",
        "    X_train = np.hstack([X_train, np.ones((X_train.shape[0], 1))])\n",
        "    X_val = np.hstack([X_val, np.ones((X_val.shape[0], 1))])\n",
        "    X_test = np.hstack([X_test, np.ones((X_test.shape[0], 1))])\n",
        "    X_dev = np.hstack([X_dev, np.ones((X_dev.shape[0], 1))])\n",
        "    \n",
        "    return X_train, y_train, X_val, y_val, X_test, y_test, X_dev, y_dev\n",
        "\n",
        "\n",
        "# Cleaning up variables to prevent loading data multiple times (which may cause memory issue)\n",
        "try:\n",
        "    del X_train, y_train\n",
        "    del X_test, y_test\n",
        "    print('Clear previously loaded data.')\n",
        "except:\n",
        "    pass\n",
        "\n",
        "# Invoke the above function to get our data.\n",
        "X_train, y_train, X_val, y_val, X_test, y_test, X_dev, y_dev = get_CIFAR10_data()\n",
        "print('Train data shape: ', X_train.shape)\n",
        "print('Train labels shape: ', y_train.shape)\n",
        "print('Validation data shape: ', X_val.shape)\n",
        "print('Validation labels shape: ', y_val.shape)\n",
        "print('Test data shape: ', X_test.shape)\n",
        "print('Test labels shape: ', y_test.shape)\n",
        "print('dev data shape: ', X_dev.shape)\n",
        "print('dev labels shape: ', y_dev.shape)"
      ],
      "execution_count": 0,
      "outputs": [
        {
          "output_type": "stream",
          "text": [
            "Train data shape:  (49000, 3073)\n",
            "Train labels shape:  (49000,)\n",
            "Validation data shape:  (1000, 3073)\n",
            "Validation labels shape:  (1000,)\n",
            "Test data shape:  (1000, 3073)\n",
            "Test labels shape:  (1000,)\n",
            "dev data shape:  (500, 3073)\n",
            "dev labels shape:  (500,)\n"
          ],
          "name": "stdout"
        }
      ]
    },
    {
      "metadata": {
        "id": "ulWqCKHrOC_X",
        "colab_type": "text"
      },
      "cell_type": "markdown",
      "source": [
        "## Softmax Classifier\n",
        "\n",
        "Your code for this section will all be written inside **cs231n/classifiers/softmax.py** and **cs231n/classifiers/linear_classifier.py**\n",
        "\n",
        "### Subtask 1\n",
        "First implement the naive softmax loss function with nested loops.\n",
        "Open the file cs231n/classifiers/softmax.py and implement the\n",
        "softmax_loss_naive function."
      ]
    },
    {
      "metadata": {
        "id": "6sFWbR8bOC_j",
        "colab_type": "code",
        "outputId": "5b4ef7a1-8fd8-4b45-ba5a-98c5d690f93c",
        "colab": {
          "base_uri": "https://localhost:8080/",
          "height": 52
        }
      },
      "cell_type": "code",
      "source": [
        "from cs231n.classifiers.softmax import softmax_loss_naive\n",
        "import time\n",
        "\n",
        "# Generate a random softmax weight matrix and use it to compute the loss.\n",
        "W = np.random.randn(3073, 10) * 0.0001\n",
        "loss, grad = softmax_loss_naive(W, X_dev, y_dev, 0.0)\n",
        "\n",
        "# As a rough sanity check, our loss should be something close to -log(0.1).\n",
        "print('loss: %f' % loss)\n",
        "print('sanity check: %f' % (-np.log(0.1)))"
      ],
      "execution_count": 0,
      "outputs": [
        {
          "output_type": "stream",
          "text": [
            "loss: 2.350325\n",
            "sanity check: 2.302585\n"
          ],
          "name": "stdout"
        }
      ]
    },
    {
      "metadata": {
        "id": "pp_VemdzOC_7",
        "colab_type": "text"
      },
      "cell_type": "markdown",
      "source": [
        "**Inline Question (1 point)**:\n",
        "Why do we expect our loss to be close to -log(0.1)? Explain briefly.\n",
        "\n",
        "**Your answer:** *Fill this in* Answer: because our W matrix is random and hence entropy will be maximal. Entropy is maximal when uncertainty is maximal. Uncertainty is maximal when all probabilities are equal. For this case they are 1/10. And -np.log(0.1) is just an arithmetical mean.\n",
        "\n",
        "\n",
        "### Subtask 2 (1 point)\n",
        "Complete the implementation of softmax_loss_naive and implement a (naive)\n",
        "version of the gradient that _uses nested loops_.\n",
        "\n"
      ]
    },
    {
      "metadata": {
        "id": "DjCyC4FOODAA",
        "colab_type": "code",
        "outputId": "336bdeaa-4d7f-4343-8929-2f7ef86df2a3",
        "colab": {
          "base_uri": "https://localhost:8080/",
          "height": 364
        }
      },
      "cell_type": "code",
      "source": [
        "loss, grad = softmax_loss_naive(W, X_dev, y_dev, 0.0)\n",
        "\n",
        "# Use numeric gradient checking as a debugging tool.\n",
        "# The numeric gradient should be close to the analytic gradient.\n",
        "from cs231n.gradient_check import grad_check_sparse\n",
        "f = lambda w: softmax_loss_naive(w, X_dev, y_dev, 0.0)[0]\n",
        "grad_numerical = grad_check_sparse(f, W, grad, 10)\n",
        "\n",
        "# Do another gradient check with regularization\n",
        "loss, grad = softmax_loss_naive(W, X_dev, y_dev, 5e1)\n",
        "f = lambda w: softmax_loss_naive(w, X_dev, y_dev, 5e1)[0]\n",
        "grad_numerical = grad_check_sparse(f, W, grad, 10)"
      ],
      "execution_count": 0,
      "outputs": [
        {
          "output_type": "stream",
          "text": [
            "numerical: 0.909555 analytic: 0.909555, relative error: 9.242586e-08\n",
            "numerical: 3.539813 analytic: 3.539813, relative error: 9.819362e-09\n",
            "numerical: -2.129854 analytic: -2.129854, relative error: 2.254169e-08\n",
            "numerical: 0.464625 analytic: 0.464625, relative error: 1.427654e-07\n",
            "numerical: -1.125533 analytic: -1.125533, relative error: 3.180122e-08\n",
            "numerical: 1.157714 analytic: 1.157714, relative error: 4.583505e-08\n",
            "numerical: 1.362571 analytic: 1.362571, relative error: 2.144475e-10\n",
            "numerical: -0.543652 analytic: -0.543652, relative error: 1.244407e-07\n",
            "numerical: 0.178640 analytic: 0.178640, relative error: 1.532561e-07\n",
            "numerical: 3.539813 analytic: 3.539813, relative error: 9.819362e-09\n",
            "numerical: 2.033862 analytic: 2.033862, relative error: 2.511466e-08\n",
            "numerical: -0.711246 analytic: -0.711247, relative error: 3.306055e-08\n",
            "numerical: -0.338504 analytic: -0.338505, relative error: 9.777238e-08\n",
            "numerical: -1.209655 analytic: -1.209655, relative error: 4.433181e-08\n",
            "numerical: -1.183307 analytic: -1.183307, relative error: 5.317559e-08\n",
            "numerical: -1.505933 analytic: -1.505933, relative error: 2.027196e-08\n",
            "numerical: -1.939237 analytic: -1.939237, relative error: 2.038926e-09\n",
            "numerical: 2.159270 analytic: 2.159270, relative error: 2.960946e-08\n",
            "numerical: 0.555661 analytic: 0.555661, relative error: 1.352643e-07\n",
            "numerical: -0.470678 analytic: -0.470678, relative error: 5.330920e-08\n"
          ],
          "name": "stdout"
        }
      ]
    },
    {
      "metadata": {
        "id": "HSs-OpV2ODAS",
        "colab_type": "text"
      },
      "cell_type": "markdown",
      "source": [
        "### Subtask 3 (4 points)\n",
        "\n",
        "Now that we have a naive implementation of the softmax loss function and its gradient,\n",
        "implement a vectorized version in softmax_loss_vectorized.\n",
        "The two versions should compute the same results, but the vectorized version should be\n",
        "much faster."
      ]
    },
    {
      "metadata": {
        "id": "dpot16YQODAX",
        "colab_type": "code",
        "outputId": "cb787df0-7327-4dc1-e580-72b5dd81dba2",
        "colab": {
          "base_uri": "https://localhost:8080/",
          "height": 86
        }
      },
      "cell_type": "code",
      "source": [
        "tic = time.time()\n",
        "loss_naive, grad_naive = softmax_loss_naive(W, X_dev, y_dev, 0.000005)\n",
        "toc = time.time()\n",
        "print('naive loss: %e computed in %fs' % (loss_naive, toc - tic))\n",
        "\n",
        "from cs231n.classifiers.softmax import softmax_loss_vectorized\n",
        "\n",
        "tic = time.time()\n",
        "loss_vectorized, grad_vectorized = softmax_loss_vectorized(W, X_dev, y_dev, 0.000005)\n",
        "toc = time.time()\n",
        "print('vectorized loss: %e computed in %fs' % (loss_vectorized, toc - tic))\n",
        "\n",
        "# We use the Frobenius norm to compare the two versions\n",
        "# of the gradient.\n",
        "grad_difference = np.linalg.norm(grad_naive - grad_vectorized, ord='fro')\n",
        "print('Loss difference: %f' % np.abs(loss_naive - loss_vectorized))\n",
        "print('Gradient difference: %f' % grad_difference)"
      ],
      "execution_count": 0,
      "outputs": [
        {
          "output_type": "stream",
          "text": [
            "naive loss: 2.350325e+00 computed in 0.151793s\n",
            "vectorized loss: 2.350325e+00 computed in 0.013735s\n",
            "Loss difference: 0.000000\n",
            "Gradient difference: 0.000000\n"
          ],
          "name": "stdout"
        }
      ]
    },
    {
      "metadata": {
        "id": "bzRk8YgSODAu",
        "colab_type": "text"
      },
      "cell_type": "markdown",
      "source": [
        "### Subtask 4 (2 points)\n",
        "\n",
        "We now have vectorized and efficient expressions for the loss, the gradient and our gradient matches the numerical gradient. We are therefore ready to do SGD to minimize the loss."
      ]
    },
    {
      "metadata": {
        "id": "Y-GaxY23ODA4",
        "colab_type": "code",
        "outputId": "a211793f-88b4-4e4d-883d-e1ec673be1dc",
        "colab": {
          "base_uri": "https://localhost:8080/",
          "height": 295
        }
      },
      "cell_type": "code",
      "source": [
        "# In the file linear_classifier.py, implement SGD in the function\n",
        "# LinearClassifier.train() and then run it with the code below.\n",
        "from cs231n.classifiers import Softmax\n",
        "model = Softmax()\n",
        "tic = time.time()\n",
        "loss_hist = model.train(X_train, y_train, learning_rate=1e-7, reg=2.5e4,\n",
        "                        num_iters=1500, verbose=True)\n",
        "toc = time.time()\n",
        "print('That took %fs' % (toc - tic))"
      ],
      "execution_count": 0,
      "outputs": [
        {
          "output_type": "stream",
          "text": [
            "iteration 0 / 1500: loss 388.803732\n",
            "iteration 100 / 1500: loss 235.335484\n",
            "iteration 200 / 1500: loss 143.077791\n",
            "iteration 300 / 1500: loss 87.299353\n",
            "iteration 400 / 1500: loss 53.569584\n",
            "iteration 500 / 1500: loss 33.132329\n",
            "iteration 600 / 1500: loss 20.912082\n",
            "iteration 700 / 1500: loss 13.449694\n",
            "iteration 800 / 1500: loss 8.926871\n",
            "iteration 900 / 1500: loss 6.148368\n",
            "iteration 1000 / 1500: loss 4.569675\n",
            "iteration 1100 / 1500: loss 3.579861\n",
            "iteration 1200 / 1500: loss 2.969077\n",
            "iteration 1300 / 1500: loss 2.591153\n",
            "iteration 1400 / 1500: loss 2.278291\n",
            "That took 10.784767s\n"
          ],
          "name": "stdout"
        }
      ]
    },
    {
      "metadata": {
        "id": "05s7oWSMODBP",
        "colab_type": "code",
        "outputId": "a2106223-fc28-4240-b1fe-57d6d2cd4bb2",
        "colab": {
          "base_uri": "https://localhost:8080/",
          "height": 497
        }
      },
      "cell_type": "code",
      "source": [
        "# A useful debugging strategy is to plot the loss as a function of\n",
        "# iteration number:\n",
        "plt.plot(loss_hist)\n",
        "plt.xlabel('Iteration number')\n",
        "plt.ylabel('Loss value')\n",
        "plt.show()"
      ],
      "execution_count": 0,
      "outputs": [
        {
          "output_type": "display_data",
          "data": {
            "image/png": "[encoded data removed]",
            "text/plain": [
              "<Figure size 720x576 with 1 Axes>"
            ]
          },
          "metadata": {
            "tags": []
          }
        }
      ]
    },
    {
      "metadata": {
        "id": "IzQ02JC2ODBp",
        "colab_type": "code",
        "outputId": "61de3827-d58c-4bee-eda9-acf0af44217b",
        "colab": {
          "base_uri": "https://localhost:8080/",
          "height": 52
        }
      },
      "cell_type": "code",
      "source": [
        "# Write the LinearClassifier.predict function and evaluate the performance on both the\n",
        "# training and validation set\n",
        "y_train_pred = model.predict(X_train)\n",
        "print('training accuracy: %f' % (np.mean(y_train == y_train_pred), ))\n",
        "y_val_pred = model.predict(X_val)\n",
        "print('validation accuracy: %f' % (np.mean(y_val == y_val_pred), ))"
      ],
      "execution_count": 0,
      "outputs": [
        {
          "output_type": "stream",
          "text": [
            "training accuracy: 0.349878\n",
            "validation accuracy: 0.356000\n"
          ],
          "name": "stdout"
        }
      ]
    },
    {
      "metadata": {
        "id": "BEi_HqsAODCF",
        "colab_type": "text"
      },
      "cell_type": "markdown",
      "source": [
        "### Subtask 5 (2 points)\n",
        "\n",
        "Use the validation set to tune hyperparameters (regularization strength and\n",
        "learning rate). You should experiment with different ranges for the learning\n",
        "rates and regularization strengths; if you are careful you should be able to\n",
        "get a classification accuracy of over 0.35 on the validation set."
      ]
    },
    {
      "metadata": {
        "id": "pb5Yt3vaODCJ",
        "colab_type": "code",
        "outputId": "63ba54d4-f909-4d8e-f1f7-a3cac42ca9e0",
        "colab": {
          "base_uri": "https://localhost:8080/",
          "height": 2084
        }
      },
      "cell_type": "code",
      "source": [
        "learning_rates = [1e-7, 5e-7]\n",
        "regularization_strengths = [2.5e4, 5e4]\n",
        "\n",
        "# results is dictionary mapping tuples of the form\n",
        "# (learning_rate, regularization_strength) to tuples of the form\n",
        "# (training_accuracy, validation_accuracy). The accuracy is simply the fraction\n",
        "# of data points that are correctly classified.\n",
        "results = {}\n",
        "best_val = -1       # The highest validation accuracy that we have seen so far.\n",
        "best_softmax = None # The Softmax object that achieved the highest validation rate.\n",
        "learning_rates = np.logspace(-10, 10, 10)\n",
        "regularization_strengths = np.logspace(-3, 6, 10)\n",
        "\n",
        "################################################################################\n",
        "# TODO:                                                                        #\n",
        "# Write code that chooses the best hyperparameters by tuning on the validation #\n",
        "# set. For each combination of hyperparameters, train a Softmax clf on the     #\n",
        "# training set, compute its accuracy on the training and validation sets, and  #\n",
        "# store these numbers in the results dictionary. In addition, store the best   #\n",
        "# validation accuracy in best_val and the Softmax object that achieves this    #\n",
        "# accuracy in best_softmax.                                                    #\n",
        "#                                                                              #\n",
        "# Hint: You should use a small value for num_iters as you develop your         #\n",
        "# validation code so that the Softmax don't take much time to train; once you  #\n",
        "# are confident that your validation code works, you should rerun the          #\n",
        "# validation code with a larger value for num_iters.                           #\n",
        "################################################################################\n",
        "iters = 100\n",
        "for lr in learning_rates:\n",
        "    for rs in regularization_strengths:\n",
        "        softmax = Softmax()\n",
        "        softmax.train(X_train, y_train, learning_rate=lr, reg=rs, num_iters=iters)\n",
        "        \n",
        "        y_train_pred = softmax.predict(X_train)\n",
        "        acc_train = np.mean(y_train == y_train_pred)\n",
        "        y_val_pred = softmax.predict(X_val)\n",
        "        acc_val = np.mean(y_val == y_val_pred)\n",
        "        \n",
        "        results[(lr, rs)] = (acc_train, acc_val)\n",
        "        \n",
        "        if best_val < acc_val:\n",
        "            best_val = acc_val\n",
        "            best_softmax = softmax\n",
        "################################################################################\n",
        "#                              END OF YOUR CODE                                #\n",
        "################################################################################\n",
        "    \n",
        "# Print out results.\n",
        "for lr, reg in sorted(results):\n",
        "    train_accuracy, val_accuracy = results[(lr, reg)]\n",
        "    print('lr %e reg %e train accuracy: %f val accuracy: %f' % (\n",
        "                lr, reg, train_accuracy, val_accuracy))\n",
        "    \n",
        "print('best validation accuracy achieved during cross-validation: %f' % best_val)"
      ],
      "execution_count": 0,
      "outputs": [
        {
          "output_type": "stream",
          "text": [
            "/content/gdrive/My Drive/Colab Notebooks/backpropagation_workshop/cs231n/classifiers/softmax.py:86: RuntimeWarning: divide by zero encountered in log\n",
            "  loss = np.sum(-np.log(softmax[np.arange(num_train), y]))\n",
            "/content/gdrive/My Drive/Colab Notebooks/backpropagation_workshop/cs231n/classifiers/softmax.py:93: RuntimeWarning: overflow encountered in double_scalars\n",
            "  loss += 0.5 * reg * np.sum(np.power(W, 2))\n",
            "/usr/local/lib/python3.6/dist-packages/numpy/core/_methods.py:32: RuntimeWarning: overflow encountered in reduce\n",
            "  return umr_sum(a, axis, dtype, out, keepdims)\n",
            "/content/gdrive/My Drive/Colab Notebooks/backpropagation_workshop/cs231n/classifiers/softmax.py:93: RuntimeWarning: overflow encountered in power\n",
            "  loss += 0.5 * reg * np.sum(np.power(W, 2))\n",
            "/content/gdrive/My Drive/Colab Notebooks/backpropagation_workshop/cs231n/classifiers/softmax.py:82: RuntimeWarning: overflow encountered in subtract\n",
            "  f -= np.max(f, axis=1, keepdims=True) # max of every sample\n",
            "/content/gdrive/My Drive/Colab Notebooks/backpropagation_workshop/cs231n/classifiers/softmax.py:82: RuntimeWarning: invalid value encountered in subtract\n",
            "  f -= np.max(f, axis=1, keepdims=True) # max of every sample\n",
            "/content/gdrive/My Drive/Colab Notebooks/backpropagation_workshop/cs231n/classifiers/softmax.py:95: RuntimeWarning: overflow encountered in multiply\n",
            "  dW += reg*W\n",
            "/usr/local/lib/python3.6/dist-packages/numpy/core/_methods.py:26: RuntimeWarning: invalid value encountered in reduce\n",
            "  return umr_maximum(a, axis, None, out, keepdims)\n",
            "/content/gdrive/My Drive/Colab Notebooks/backpropagation_workshop/cs231n/classifiers/linear_classifier.py:69: RuntimeWarning: overflow encountered in multiply\n",
            "  self.W += -learning_rate * grad\n"
          ],
          "name": "stderr"
        },
        {
          "output_type": "stream",
          "text": [
            "lr 1.000000e-10 reg 1.000000e-03 train accuracy: 0.104510 val accuracy: 0.099000\n",
            "lr 1.000000e-10 reg 1.000000e-02 train accuracy: 0.095449 val accuracy: 0.104000\n",
            "lr 1.000000e-10 reg 1.000000e-01 train accuracy: 0.108061 val accuracy: 0.115000\n",
            "lr 1.000000e-10 reg 1.000000e+00 train accuracy: 0.086122 val accuracy: 0.100000\n",
            "lr 1.000000e-10 reg 1.000000e+01 train accuracy: 0.116306 val accuracy: 0.121000\n",
            "lr 1.000000e-10 reg 1.000000e+02 train accuracy: 0.091490 val accuracy: 0.086000\n",
            "lr 1.000000e-10 reg 1.000000e+03 train accuracy: 0.114837 val accuracy: 0.117000\n",
            "lr 1.000000e-10 reg 1.000000e+04 train accuracy: 0.081041 val accuracy: 0.066000\n",
            "lr 1.000000e-10 reg 1.000000e+05 train accuracy: 0.099531 val accuracy: 0.108000\n",
            "lr 1.000000e-10 reg 1.000000e+06 train accuracy: 0.089551 val accuracy: 0.097000\n",
            "lr 1.668101e-08 reg 1.000000e-03 train accuracy: 0.094837 val accuracy: 0.092000\n",
            "lr 1.668101e-08 reg 1.000000e-02 train accuracy: 0.106510 val accuracy: 0.116000\n",
            "lr 1.668101e-08 reg 1.000000e-01 train accuracy: 0.127612 val accuracy: 0.104000\n",
            "lr 1.668101e-08 reg 1.000000e+00 train accuracy: 0.099673 val accuracy: 0.086000\n",
            "lr 1.668101e-08 reg 1.000000e+01 train accuracy: 0.118429 val accuracy: 0.123000\n",
            "lr 1.668101e-08 reg 1.000000e+02 train accuracy: 0.114939 val accuracy: 0.116000\n",
            "lr 1.668101e-08 reg 1.000000e+03 train accuracy: 0.105898 val accuracy: 0.109000\n",
            "lr 1.668101e-08 reg 1.000000e+04 train accuracy: 0.115531 val accuracy: 0.110000\n",
            "lr 1.668101e-08 reg 1.000000e+05 train accuracy: 0.114020 val accuracy: 0.112000\n",
            "lr 1.668101e-08 reg 1.000000e+06 train accuracy: 0.113306 val accuracy: 0.119000\n",
            "lr 2.782559e-06 reg 1.000000e-03 train accuracy: 0.264531 val accuracy: 0.243000\n",
            "lr 2.782559e-06 reg 1.000000e-02 train accuracy: 0.268122 val accuracy: 0.273000\n",
            "lr 2.782559e-06 reg 1.000000e-01 train accuracy: 0.271592 val accuracy: 0.292000\n",
            "lr 2.782559e-06 reg 1.000000e+00 train accuracy: 0.268367 val accuracy: 0.279000\n",
            "lr 2.782559e-06 reg 1.000000e+01 train accuracy: 0.278898 val accuracy: 0.265000\n",
            "lr 2.782559e-06 reg 1.000000e+02 train accuracy: 0.277286 val accuracy: 0.287000\n",
            "lr 2.782559e-06 reg 1.000000e+03 train accuracy: 0.285755 val accuracy: 0.291000\n",
            "lr 2.782559e-06 reg 1.000000e+04 train accuracy: 0.346653 val accuracy: 0.354000\n",
            "lr 2.782559e-06 reg 1.000000e+05 train accuracy: 0.248857 val accuracy: 0.240000\n",
            "lr 2.782559e-06 reg 1.000000e+06 train accuracy: 0.084918 val accuracy: 0.083000\n",
            "lr 4.641589e-04 reg 1.000000e-03 train accuracy: 0.286265 val accuracy: 0.307000\n",
            "lr 4.641589e-04 reg 1.000000e-02 train accuracy: 0.316918 val accuracy: 0.301000\n",
            "lr 4.641589e-04 reg 1.000000e-01 train accuracy: 0.263959 val accuracy: 0.256000\n",
            "lr 4.641589e-04 reg 1.000000e+00 train accuracy: 0.263265 val accuracy: 0.252000\n",
            "lr 4.641589e-04 reg 1.000000e+01 train accuracy: 0.212490 val accuracy: 0.218000\n",
            "lr 4.641589e-04 reg 1.000000e+02 train accuracy: 0.198633 val accuracy: 0.194000\n",
            "lr 4.641589e-04 reg 1.000000e+03 train accuracy: 0.131020 val accuracy: 0.112000\n",
            "lr 4.641589e-04 reg 1.000000e+04 train accuracy: 0.054265 val accuracy: 0.049000\n",
            "lr 4.641589e-04 reg 1.000000e+05 train accuracy: 0.067347 val accuracy: 0.079000\n",
            "lr 4.641589e-04 reg 1.000000e+06 train accuracy: 0.100143 val accuracy: 0.084000\n",
            "lr 7.742637e-02 reg 1.000000e-03 train accuracy: 0.280163 val accuracy: 0.284000\n",
            "lr 7.742637e-02 reg 1.000000e-02 train accuracy: 0.275735 val accuracy: 0.266000\n",
            "lr 7.742637e-02 reg 1.000000e-01 train accuracy: 0.243490 val accuracy: 0.267000\n",
            "lr 7.742637e-02 reg 1.000000e+00 train accuracy: 0.156490 val accuracy: 0.171000\n",
            "lr 7.742637e-02 reg 1.000000e+01 train accuracy: 0.086776 val accuracy: 0.092000\n",
            "lr 7.742637e-02 reg 1.000000e+02 train accuracy: 0.050163 val accuracy: 0.047000\n",
            "lr 7.742637e-02 reg 1.000000e+03 train accuracy: 0.070551 val accuracy: 0.073000\n",
            "lr 7.742637e-02 reg 1.000000e+04 train accuracy: 0.056735 val accuracy: 0.061000\n",
            "lr 7.742637e-02 reg 1.000000e+05 train accuracy: 0.100265 val accuracy: 0.087000\n",
            "lr 7.742637e-02 reg 1.000000e+06 train accuracy: 0.100265 val accuracy: 0.087000\n",
            "lr 1.291550e+01 reg 1.000000e-03 train accuracy: 0.234347 val accuracy: 0.222000\n",
            "lr 1.291550e+01 reg 1.000000e-02 train accuracy: 0.233327 val accuracy: 0.258000\n",
            "lr 1.291550e+01 reg 1.000000e-01 train accuracy: 0.097551 val accuracy: 0.096000\n",
            "lr 1.291550e+01 reg 1.000000e+00 train accuracy: 0.051898 val accuracy: 0.056000\n",
            "lr 1.291550e+01 reg 1.000000e+01 train accuracy: 0.086061 val accuracy: 0.087000\n",
            "lr 1.291550e+01 reg 1.000000e+02 train accuracy: 0.100265 val accuracy: 0.087000\n",
            "lr 1.291550e+01 reg 1.000000e+03 train accuracy: 0.100265 val accuracy: 0.087000\n",
            "lr 1.291550e+01 reg 1.000000e+04 train accuracy: 0.100265 val accuracy: 0.087000\n",
            "lr 1.291550e+01 reg 1.000000e+05 train accuracy: 0.100265 val accuracy: 0.087000\n",
            "lr 1.291550e+01 reg 1.000000e+06 train accuracy: 0.100265 val accuracy: 0.087000\n",
            "lr 2.154435e+03 reg 1.000000e-03 train accuracy: 0.082551 val accuracy: 0.094000\n",
            "lr 2.154435e+03 reg 1.000000e-02 train accuracy: 0.051551 val accuracy: 0.050000\n",
            "lr 2.154435e+03 reg 1.000000e-01 train accuracy: 0.066204 val accuracy: 0.070000\n",
            "lr 2.154435e+03 reg 1.000000e+00 train accuracy: 0.100265 val accuracy: 0.087000\n",
            "lr 2.154435e+03 reg 1.000000e+01 train accuracy: 0.100265 val accuracy: 0.087000\n",
            "lr 2.154435e+03 reg 1.000000e+02 train accuracy: 0.100265 val accuracy: 0.087000\n",
            "lr 2.154435e+03 reg 1.000000e+03 train accuracy: 0.100265 val accuracy: 0.087000\n",
            "lr 2.154435e+03 reg 1.000000e+04 train accuracy: 0.100265 val accuracy: 0.087000\n",
            "lr 2.154435e+03 reg 1.000000e+05 train accuracy: 0.100265 val accuracy: 0.087000\n",
            "lr 2.154435e+03 reg 1.000000e+06 train accuracy: 0.100265 val accuracy: 0.087000\n",
            "lr 3.593814e+05 reg 1.000000e-03 train accuracy: 0.050327 val accuracy: 0.043000\n",
            "lr 3.593814e+05 reg 1.000000e-02 train accuracy: 0.100265 val accuracy: 0.087000\n",
            "lr 3.593814e+05 reg 1.000000e-01 train accuracy: 0.100265 val accuracy: 0.087000\n",
            "lr 3.593814e+05 reg 1.000000e+00 train accuracy: 0.100265 val accuracy: 0.087000\n",
            "lr 3.593814e+05 reg 1.000000e+01 train accuracy: 0.100265 val accuracy: 0.087000\n",
            "lr 3.593814e+05 reg 1.000000e+02 train accuracy: 0.100265 val accuracy: 0.087000\n",
            "lr 3.593814e+05 reg 1.000000e+03 train accuracy: 0.100265 val accuracy: 0.087000\n",
            "lr 3.593814e+05 reg 1.000000e+04 train accuracy: 0.100265 val accuracy: 0.087000\n",
            "lr 3.593814e+05 reg 1.000000e+05 train accuracy: 0.100265 val accuracy: 0.087000\n",
            "lr 3.593814e+05 reg 1.000000e+06 train accuracy: 0.100265 val accuracy: 0.087000\n",
            "lr 5.994843e+07 reg 1.000000e-03 train accuracy: 0.100265 val accuracy: 0.087000\n",
            "lr 5.994843e+07 reg 1.000000e-02 train accuracy: 0.100265 val accuracy: 0.087000\n",
            "lr 5.994843e+07 reg 1.000000e-01 train accuracy: 0.100265 val accuracy: 0.087000\n",
            "lr 5.994843e+07 reg 1.000000e+00 train accuracy: 0.100265 val accuracy: 0.087000\n",
            "lr 5.994843e+07 reg 1.000000e+01 train accuracy: 0.100265 val accuracy: 0.087000\n",
            "lr 5.994843e+07 reg 1.000000e+02 train accuracy: 0.100265 val accuracy: 0.087000\n",
            "lr 5.994843e+07 reg 1.000000e+03 train accuracy: 0.100265 val accuracy: 0.087000\n",
            "lr 5.994843e+07 reg 1.000000e+04 train accuracy: 0.100265 val accuracy: 0.087000\n",
            "lr 5.994843e+07 reg 1.000000e+05 train accuracy: 0.100265 val accuracy: 0.087000\n",
            "lr 5.994843e+07 reg 1.000000e+06 train accuracy: 0.100265 val accuracy: 0.087000\n",
            "lr 1.000000e+10 reg 1.000000e-03 train accuracy: 0.100265 val accuracy: 0.087000\n",
            "lr 1.000000e+10 reg 1.000000e-02 train accuracy: 0.100265 val accuracy: 0.087000\n",
            "lr 1.000000e+10 reg 1.000000e-01 train accuracy: 0.100265 val accuracy: 0.087000\n",
            "lr 1.000000e+10 reg 1.000000e+00 train accuracy: 0.100265 val accuracy: 0.087000\n",
            "lr 1.000000e+10 reg 1.000000e+01 train accuracy: 0.100265 val accuracy: 0.087000\n",
            "lr 1.000000e+10 reg 1.000000e+02 train accuracy: 0.100265 val accuracy: 0.087000\n",
            "lr 1.000000e+10 reg 1.000000e+03 train accuracy: 0.100265 val accuracy: 0.087000\n",
            "lr 1.000000e+10 reg 1.000000e+04 train accuracy: 0.100265 val accuracy: 0.087000\n",
            "lr 1.000000e+10 reg 1.000000e+05 train accuracy: 0.100265 val accuracy: 0.087000\n",
            "lr 1.000000e+10 reg 1.000000e+06 train accuracy: 0.100265 val accuracy: 0.087000\n",
            "best validation accuracy achieved during cross-validation: 0.354000\n"
          ],
          "name": "stdout"
        }
      ]
    },
    {
      "metadata": {
        "id": "gFrCZfmfODCc",
        "colab_type": "code",
        "outputId": "0c9cbace-c1b6-40df-eb36-3a8e3f858312",
        "colab": {
          "base_uri": "https://localhost:8080/",
          "height": 34
        }
      },
      "cell_type": "code",
      "source": [
        "# evaluate on test set\n",
        "# Evaluate the best softmax on test set\n",
        "y_test_pred = best_softmax.predict(X_test)\n",
        "test_accuracy = np.mean(y_test == y_test_pred)\n",
        "print('softmax on raw pixels final test set accuracy: %f' % (test_accuracy, ))"
      ],
      "execution_count": 0,
      "outputs": [
        {
          "output_type": "stream",
          "text": [
            "softmax on raw pixels final test set accuracy: 0.356000\n"
          ],
          "name": "stdout"
        }
      ]
    },
    {
      "metadata": {
        "id": "CuW6O5GUODCu",
        "colab_type": "code",
        "outputId": "0e362f50-f3b5-4b98-e08d-83d1ae18f961",
        "colab": {
          "base_uri": "https://localhost:8080/",
          "height": 396
        }
      },
      "cell_type": "code",
      "source": [
        "# Visualize the learned weights for each class\n",
        "w = best_softmax.W[:-1,:] # strip out the bias\n",
        "w = w.reshape(32, 32, 3, 10)\n",
        "\n",
        "w_min, w_max = np.min(w), np.max(w)\n",
        "\n",
        "classes = ['plane', 'car', 'bird', 'cat', 'deer', 'dog', 'frog', 'horse', 'ship', 'truck']\n",
        "for i in range(10):\n",
        "    plt.subplot(2, 5, i + 1)\n",
        "    \n",
        "    # Rescale the weights to be between 0 and 255\n",
        "    wimg = 255.0 * (w[:, :, :, i].squeeze() - w_min) / (w_max - w_min)\n",
        "    plt.imshow(wimg.astype('uint8'))\n",
        "    plt.axis('off')\n",
        "    plt.title(classes[i])"
      ],
      "execution_count": 0,
      "outputs": [
        {
          "output_type": "display_data",
          "data": {
            "image/png": "[encoded data removed]",
            "text/plain": [
              "<Figure size 720x576 with 10 Axes>"
            ]
          },
          "metadata": {
            "tags": []
          }
        }
      ]
    },
    {
      "metadata": {
        "id": "rbwgVyBPODDE",
        "colab_type": "text"
      },
      "cell_type": "markdown",
      "source": [
        "#### Max score: 10 points"
      ]
    }
  ]
}