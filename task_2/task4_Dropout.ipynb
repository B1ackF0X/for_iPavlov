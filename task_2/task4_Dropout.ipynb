{
  "nbformat": 4,
  "nbformat_minor": 0,
  "metadata": {
    "colab": {
      "name": "task4_Dropout.ipynb",
      "version": "0.3.2",
      "provenance": []
    },
    "kernelspec": {
      "display_name": "Python 3",
      "language": "python",
      "name": "python3"
    }
  },
  "cells": [
    {
      "metadata": {
        "id": "avsD6pApNUYY",
        "colab_type": "text"
      },
      "cell_type": "markdown",
      "source": [
        "# Dropout\n",
        "Dropout [1] is a technique for regularizing neural networks by randomly setting some features to zero during the forward pass. In this exercise you will implement a dropout layer and modify your fully-connected network to optionally use dropout.\n",
        "\n",
        "[1] [Geoffrey E. Hinton et al, \"Improving neural networks by preventing co-adaptation of feature detectors\", arXiv 2012](https://arxiv.org/abs/1207.0580)"
      ]
    },
    {
      "metadata": {
        "id": "T7o9AV7ibXtW",
        "colab_type": "code",
        "outputId": "1424dcf1-bc06-42b8-9c90-785c261bf432",
        "colab": {
          "base_uri": "https://localhost:8080/",
          "height": 34
        }
      },
      "cell_type": "code",
      "source": [
        "from google.colab import drive\n",
        "drive.mount('/content/gdrive')"
      ],
      "execution_count": 0,
      "outputs": [
        {
          "output_type": "stream",
          "text": [
            "Drive already mounted at /content/gdrive; to attempt to forcibly remount, call drive.mount(\"/content/gdrive\", force_remount=True).\n"
          ],
          "name": "stdout"
        }
      ]
    },
    {
      "metadata": {
        "id": "i6cEVocKNUYn",
        "colab_type": "code",
        "outputId": "d7b03735-45e1-4bb5-bdd5-7f1d4838320f",
        "colab": {
          "base_uri": "https://localhost:8080/",
          "height": 69
        }
      },
      "cell_type": "code",
      "source": [
        "import sys\n",
        "sys.path.append(\"/content/gdrive/My Drive/Colab Notebooks/backpropagation_workshop\")\n",
        "\n",
        "# As usual, a bit of setup\n",
        "import time\n",
        "import numpy as np\n",
        "import matplotlib.pyplot as plt\n",
        "from cs231n.classifiers.fc_net import *\n",
        "from cs231n.data_utils import get_CIFAR10_data\n",
        "from cs231n.gradient_check import eval_numerical_gradient, eval_numerical_gradient_array\n",
        "from cs231n.solver import Solver\n",
        "\n",
        "%matplotlib inline\n",
        "plt.rcParams['figure.figsize'] = (10.0, 8.0) # set default size of plots\n",
        "plt.rcParams['image.interpolation'] = 'nearest'\n",
        "plt.rcParams['image.cmap'] = 'gray'\n",
        "\n",
        "# for auto-reloading external modules\n",
        "# see http://stackoverflow.com/questions/1907993/autoreload-of-modules-in-ipython\n",
        "%load_ext autoreload\n",
        "%autoreload 2\n",
        "\n",
        "def rel_error(x, y):\n",
        "    \"\"\" returns relative error \"\"\"\n",
        "    return np.max(np.abs(x - y) / (np.maximum(1e-8, np.abs(x) + np.abs(y))))"
      ],
      "execution_count": 0,
      "outputs": [
        {
          "output_type": "stream",
          "text": [
            "run the following from the cs231n directory and try again:\n",
            "python setup.py build_ext --inplace\n",
            "You may also need to restart your iPython kernel\n"
          ],
          "name": "stdout"
        }
      ]
    },
    {
      "metadata": {
        "id": "W7n-7ZxDNUZI",
        "colab_type": "code",
        "outputId": "900a2e9e-3659-4c04-a03d-df1d4bdcc6ca",
        "colab": {
          "base_uri": "https://localhost:8080/",
          "height": 121
        }
      },
      "cell_type": "code",
      "source": [
        "# Load the (preprocessed) CIFAR10 data.\n",
        "\n",
        "data = get_CIFAR10_data()\n",
        "for k, v in data.items():\n",
        "    print('%s: ' % k, v.shape)"
      ],
      "execution_count": 0,
      "outputs": [
        {
          "output_type": "stream",
          "text": [
            "X_train:  (49000, 3, 32, 32)\n",
            "y_train:  (49000,)\n",
            "X_val:  (1000, 3, 32, 32)\n",
            "y_val:  (1000,)\n",
            "X_test:  (1000, 3, 32, 32)\n",
            "y_test:  (1000,)\n"
          ],
          "name": "stdout"
        }
      ]
    },
    {
      "metadata": {
        "id": "s7LauyrcNUZi",
        "colab_type": "text"
      },
      "cell_type": "markdown",
      "source": [
        "# Dropout forward pass (1 point)\n",
        "In the file `cs231n/layers.py`, implement the forward pass for dropout. Since dropout behaves differently during training and testing, make sure to implement the operation for both modes.\n",
        "\n",
        "Once you have done so, run the cell below to test your implementation."
      ]
    },
    {
      "metadata": {
        "id": "oDc_sTLpNUZq",
        "colab_type": "code",
        "outputId": "67dcfd94-fa19-441e-c5d1-4658ea4ff6fe",
        "colab": {
          "base_uri": "https://localhost:8080/",
          "height": 382
        }
      },
      "cell_type": "code",
      "source": [
        "np.random.seed(231)\n",
        "x = np.random.randn(500, 500) + 10\n",
        "\n",
        "for p in [0.25, 0.4, 0.7]:\n",
        "    out, _ = dropout_forward(x, {'mode': 'train', 'p': p})\n",
        "    out_test, _ = dropout_forward(x, {'mode': 'test', 'p': p})\n",
        "  \n",
        "    print('Running tests with p = ', p)\n",
        "    print('Mean of input: ', x.mean())\n",
        "    print('Mean of train-time output: ', out.mean())\n",
        "    print('Mean of test-time output: ', out_test.mean())\n",
        "    print('Fraction of train-time output set to zero: ', (out == 0).mean())\n",
        "    print('Fraction of test-time output set to zero: ', (out_test == 0).mean())\n",
        "    print()"
      ],
      "execution_count": 0,
      "outputs": [
        {
          "output_type": "stream",
          "text": [
            "Running tests with p =  0.25\n",
            "Mean of input:  10.000207878477502\n",
            "Mean of train-time output:  10.014059116977283\n",
            "Mean of test-time output:  10.000207878477502\n",
            "Fraction of train-time output set to zero:  0.749784\n",
            "Fraction of test-time output set to zero:  0.0\n",
            "\n",
            "Running tests with p =  0.4\n",
            "Mean of input:  10.000207878477502\n",
            "Mean of train-time output:  9.977917658761159\n",
            "Mean of test-time output:  10.000207878477502\n",
            "Fraction of train-time output set to zero:  0.600796\n",
            "Fraction of test-time output set to zero:  0.0\n",
            "\n",
            "Running tests with p =  0.7\n",
            "Mean of input:  10.000207878477502\n",
            "Mean of train-time output:  9.987811912159426\n",
            "Mean of test-time output:  10.000207878477502\n",
            "Fraction of train-time output set to zero:  0.30074\n",
            "Fraction of test-time output set to zero:  0.0\n",
            "\n"
          ],
          "name": "stdout"
        }
      ]
    },
    {
      "metadata": {
        "id": "3AnV7PUzNUaA",
        "colab_type": "text"
      },
      "cell_type": "markdown",
      "source": [
        "# Dropout backward pass (1 point)\n",
        "In the file `cs231n/layers.py`, implement the backward pass for dropout. After doing so, run the following cell to numerically gradient-check your implementation."
      ]
    },
    {
      "metadata": {
        "id": "WVqOdkA5NUaG",
        "colab_type": "code",
        "outputId": "097802a0-c384-46fd-8b9d-e057d79df353",
        "colab": {
          "base_uri": "https://localhost:8080/",
          "height": 34
        }
      },
      "cell_type": "code",
      "source": [
        "np.random.seed(231)\n",
        "x = np.random.randn(10, 10) + 10\n",
        "dout = np.random.randn(*x.shape)\n",
        "\n",
        "dropout_param = {'mode': 'train', 'p': 0.2, 'seed': 123}\n",
        "out, cache = dropout_forward(x, dropout_param)\n",
        "dx = dropout_backward(dout, cache)\n",
        "dx_num = eval_numerical_gradient_array(lambda xx: dropout_forward(xx, dropout_param)[0], x, dout)\n",
        "\n",
        "# Error should be around e-10 or less\n",
        "print('dx relative error: ', rel_error(dx, dx_num))"
      ],
      "execution_count": 0,
      "outputs": [
        {
          "output_type": "stream",
          "text": [
            "dx relative error:  5.44560814873387e-11\n"
          ],
          "name": "stdout"
        }
      ]
    },
    {
      "metadata": {
        "id": "cX8-L_RVNUaY",
        "colab_type": "text"
      },
      "cell_type": "markdown",
      "source": [
        "## Inline Question 1 (1 point):\n",
        "What happens if we do not divide the values being passed through inverse dropout by `p` in the dropout layer? Why does that happen?"
      ]
    },
    {
      "metadata": {
        "id": "tLf_O0i5NUag",
        "colab_type": "text"
      },
      "cell_type": "markdown",
      "source": [
        "**Answer**: Our decision boundary will shift. That is because the expected value of an output feature is p*E(WT+x),as only p units are used.\n"
      ]
    },
    {
      "metadata": {
        "id": "M-ZVAyycNUao",
        "colab_type": "text"
      },
      "cell_type": "markdown",
      "source": [
        "# Fully-connected nets with Dropout (1 point)\n",
        "In the file `cs231n/classifiers/fc_net.py`, modify your implementation to use dropout. Specifically, if the constructor of the net receives a value that is not 1 for the `dropout` parameter, then the net should add dropout immediately after every ReLU nonlinearity. After doing so, run the following to numerically gradient-check your implementation."
      ]
    },
    {
      "metadata": {
        "id": "2NX0f2VRNUay",
        "colab_type": "code",
        "outputId": "f4bd6773-b445-404f-e2fd-b6191bb693af",
        "colab": {
          "base_uri": "https://localhost:8080/",
          "height": 486
        }
      },
      "cell_type": "code",
      "source": [
        "np.random.seed(231)\n",
        "N, D, H1, H2, C = 2, 15, 20, 30, 10\n",
        "X = np.random.randn(N, D)\n",
        "y = np.random.randint(C, size=(N,))\n",
        "\n",
        "for dropout in [1, 0.75, 0.5]:\n",
        "    print('Running check with dropout = ', dropout)\n",
        "    model = FullyConnectedNet([H1, H2], input_dim=D, num_classes=C,\n",
        "                              weight_scale=5e-2, dtype=np.float64,\n",
        "                              dropout=dropout, seed=123)\n",
        "\n",
        "    loss, grads = model.loss(X, y)\n",
        "    print('Initial loss: ', loss)\n",
        "    \n",
        "    # Relative errors should be around e-6 or less; Note that it's fine\n",
        "    # if for dropout=1 you have W2 error be on the order of e-5.\n",
        "    for name in sorted(grads):\n",
        "        f = lambda _: model.loss(X, y)[0]\n",
        "        grad_num = eval_numerical_gradient(f, model.params[name], verbose=False, h=1e-5)\n",
        "        print('%s relative error: %.2e' % (name, rel_error(grad_num, grads[name])))\n",
        "    print()"
      ],
      "execution_count": 0,
      "outputs": [
        {
          "output_type": "stream",
          "text": [
            "Running check with dropout =  1\n",
            "Initial loss:  2.3004790897684924\n",
            "W1 relative error: 1.48e-07\n",
            "W2 relative error: 2.21e-05\n",
            "W3 relative error: 3.53e-07\n",
            "b1 relative error: 5.38e-09\n",
            "b2 relative error: 2.09e-09\n",
            "b3 relative error: 5.80e-11\n",
            "\n",
            "Running check with dropout =  0.75\n",
            "Initial loss:  2.3016482157750753\n",
            "W1 relative error: 6.96e-07\n",
            "W2 relative error: 5.01e-06\n",
            "W3 relative error: 2.96e-07\n",
            "b1 relative error: 1.48e-08\n",
            "b2 relative error: 1.72e-09\n",
            "b3 relative error: 1.32e-10\n",
            "\n",
            "Running check with dropout =  0.5\n",
            "Initial loss:  2.294963257976082\n",
            "W1 relative error: 1.20e-07\n",
            "W2 relative error: 5.54e-07\n",
            "W3 relative error: 1.48e-06\n",
            "b1 relative error: 3.30e-09\n",
            "b2 relative error: 4.40e-09\n",
            "b3 relative error: 1.25e-10\n",
            "\n"
          ],
          "name": "stdout"
        }
      ]
    },
    {
      "metadata": {
        "id": "BNJYgqpUNUbL",
        "colab_type": "text"
      },
      "cell_type": "markdown",
      "source": [
        "# Regularization experiment\n",
        "As an experiment, we will train a pair of two-layer networks on 500 training examples: one will use no dropout, and one will use a keep probability of 0.25. We will then visualize the training and validation accuracies of the two networks over time."
      ]
    },
    {
      "metadata": {
        "scrolled": false,
        "id": "CGPjpBErNUbT",
        "colab_type": "code",
        "outputId": "7cd44139-c133-4b9d-ba42-e40c4044ccfc",
        "colab": {
          "base_uri": "https://localhost:8080/",
          "height": 1024
        }
      },
      "cell_type": "code",
      "source": [
        "# Train two identical nets, one with dropout and one without\n",
        "np.random.seed(231)\n",
        "num_train = 500\n",
        "small_data = {\n",
        "  'X_train': data['X_train'][:num_train],\n",
        "  'y_train': data['y_train'][:num_train],\n",
        "  'X_val': data['X_val'],\n",
        "  'y_val': data['y_val'],\n",
        "}\n",
        "\n",
        "solvers = {}\n",
        "dropout_choices = [1, 0.25]\n",
        "for dropout in dropout_choices:\n",
        "    model = FullyConnectedNet([500], dropout=dropout)\n",
        "    print(dropout)\n",
        "\n",
        "    solver = Solver(model, small_data,\n",
        "                    num_epochs=25, batch_size=100,\n",
        "                    update_rule='adam',\n",
        "                    optim_config={\n",
        "                      'learning_rate': 5e-4,\n",
        "                    },\n",
        "                    verbose=True, print_every=100)\n",
        "    solver.train()\n",
        "    solvers[dropout] = solver"
      ],
      "execution_count": 0,
      "outputs": [
        {
          "output_type": "stream",
          "text": [
            "1\n",
            "(Iteration 1 / 125) loss: 7.856643\n",
            "(Epoch 0 / 25) train acc: 0.260000; val_acc: 0.184000\n",
            "(Epoch 1 / 25) train acc: 0.416000; val_acc: 0.258000\n",
            "(Epoch 2 / 25) train acc: 0.482000; val_acc: 0.276000\n",
            "(Epoch 3 / 25) train acc: 0.532000; val_acc: 0.277000\n",
            "(Epoch 4 / 25) train acc: 0.600000; val_acc: 0.271000\n",
            "(Epoch 5 / 25) train acc: 0.708000; val_acc: 0.299000\n",
            "(Epoch 6 / 25) train acc: 0.722000; val_acc: 0.282000\n",
            "(Epoch 7 / 25) train acc: 0.832000; val_acc: 0.255000\n",
            "(Epoch 8 / 25) train acc: 0.878000; val_acc: 0.269000\n",
            "(Epoch 9 / 25) train acc: 0.902000; val_acc: 0.275000\n",
            "(Epoch 10 / 25) train acc: 0.888000; val_acc: 0.261000\n",
            "(Epoch 11 / 25) train acc: 0.926000; val_acc: 0.278000\n",
            "(Epoch 12 / 25) train acc: 0.960000; val_acc: 0.302000\n",
            "(Epoch 13 / 25) train acc: 0.964000; val_acc: 0.306000\n",
            "(Epoch 14 / 25) train acc: 0.966000; val_acc: 0.309000\n",
            "(Epoch 15 / 25) train acc: 0.976000; val_acc: 0.288000\n",
            "(Epoch 16 / 25) train acc: 0.988000; val_acc: 0.301000\n",
            "(Epoch 17 / 25) train acc: 0.988000; val_acc: 0.310000\n",
            "(Epoch 18 / 25) train acc: 0.990000; val_acc: 0.311000\n",
            "(Epoch 19 / 25) train acc: 0.990000; val_acc: 0.310000\n",
            "(Epoch 20 / 25) train acc: 0.988000; val_acc: 0.312000\n",
            "(Iteration 101 / 125) loss: 0.084611\n",
            "(Epoch 21 / 25) train acc: 0.990000; val_acc: 0.302000\n",
            "(Epoch 22 / 25) train acc: 0.978000; val_acc: 0.299000\n",
            "(Epoch 23 / 25) train acc: 0.986000; val_acc: 0.291000\n",
            "(Epoch 24 / 25) train acc: 0.994000; val_acc: 0.302000\n",
            "(Epoch 25 / 25) train acc: 0.994000; val_acc: 0.293000\n",
            "0.25\n",
            "(Iteration 1 / 125) loss: 10.430469\n",
            "(Epoch 0 / 25) train acc: 0.264000; val_acc: 0.174000\n",
            "(Epoch 1 / 25) train acc: 0.388000; val_acc: 0.257000\n",
            "(Epoch 2 / 25) train acc: 0.500000; val_acc: 0.238000\n",
            "(Epoch 3 / 25) train acc: 0.614000; val_acc: 0.248000\n",
            "(Epoch 4 / 25) train acc: 0.704000; val_acc: 0.281000\n",
            "(Epoch 5 / 25) train acc: 0.754000; val_acc: 0.251000\n",
            "(Epoch 6 / 25) train acc: 0.820000; val_acc: 0.281000\n",
            "(Epoch 7 / 25) train acc: 0.872000; val_acc: 0.266000\n",
            "(Epoch 8 / 25) train acc: 0.896000; val_acc: 0.303000\n",
            "(Epoch 9 / 25) train acc: 0.914000; val_acc: 0.315000\n",
            "(Epoch 10 / 25) train acc: 0.912000; val_acc: 0.291000\n",
            "(Epoch 11 / 25) train acc: 0.920000; val_acc: 0.299000\n",
            "(Epoch 12 / 25) train acc: 0.930000; val_acc: 0.304000\n",
            "(Epoch 13 / 25) train acc: 0.926000; val_acc: 0.295000\n",
            "(Epoch 14 / 25) train acc: 0.950000; val_acc: 0.285000\n",
            "(Epoch 15 / 25) train acc: 0.966000; val_acc: 0.290000\n",
            "(Epoch 16 / 25) train acc: 0.960000; val_acc: 0.282000\n",
            "(Epoch 17 / 25) train acc: 0.978000; val_acc: 0.275000\n",
            "(Epoch 18 / 25) train acc: 0.982000; val_acc: 0.289000\n",
            "(Epoch 19 / 25) train acc: 0.982000; val_acc: 0.295000\n",
            "(Epoch 20 / 25) train acc: 0.988000; val_acc: 0.294000\n",
            "(Iteration 101 / 125) loss: 0.002174\n",
            "(Epoch 21 / 25) train acc: 0.974000; val_acc: 0.272000\n",
            "(Epoch 22 / 25) train acc: 0.990000; val_acc: 0.283000\n",
            "(Epoch 23 / 25) train acc: 0.972000; val_acc: 0.294000\n",
            "(Epoch 24 / 25) train acc: 0.960000; val_acc: 0.266000\n",
            "(Epoch 25 / 25) train acc: 0.958000; val_acc: 0.300000\n"
          ],
          "name": "stdout"
        }
      ]
    },
    {
      "metadata": {
        "id": "9XKgCsV3NUbt",
        "colab_type": "code",
        "outputId": "7ada0009-ee88-4fb8-9a1c-5df45058c193",
        "colab": {
          "base_uri": "https://localhost:8080/",
          "height": 605
        }
      },
      "cell_type": "code",
      "source": [
        "# Plot train and validation accuracies of the two models\n",
        "\n",
        "train_accs = []\n",
        "val_accs = []\n",
        "for dropout in dropout_choices:\n",
        "    solver = solvers[dropout]\n",
        "    train_accs.append(solver.train_acc_history[-1])\n",
        "    val_accs.append(solver.val_acc_history[-1])\n",
        "\n",
        "plt.subplot(3, 1, 1)\n",
        "for dropout in dropout_choices:\n",
        "    plt.plot(solvers[dropout].train_acc_history, 'o', label='%.2f dropout' % dropout)\n",
        "plt.title('Train accuracy')\n",
        "plt.xlabel('Epoch')\n",
        "plt.ylabel('Accuracy')\n",
        "plt.legend(ncol=2, loc='lower right')\n",
        "  \n",
        "plt.subplot(3, 1, 2)\n",
        "for dropout in dropout_choices:\n",
        "    plt.plot(solvers[dropout].val_acc_history, 'o', label='%.2f dropout' % dropout)\n",
        "plt.title('Val accuracy')\n",
        "plt.xlabel('Epoch')\n",
        "plt.ylabel('Accuracy')\n",
        "plt.legend(ncol=2, loc='lower right')\n",
        "\n",
        "plt.gcf().set_size_inches(15, 15)\n",
        "plt.show()"
      ],
      "execution_count": 0,
      "outputs": [
        {
          "output_type": "display_data",
          "data": {
            "image/png": "[encoded data removed]",
            "text/plain": [
              "<Figure size 1080x1080 with 2 Axes>"
            ]
          },
          "metadata": {
            "tags": []
          }
        }
      ]
    },
    {
      "metadata": {
        "id": "wahA1HRcNUcI",
        "colab_type": "text"
      },
      "cell_type": "markdown",
      "source": [
        "## Inline Question 2 (1 point):\n",
        "Compare the validation and training accuracies with and without dropout -- what do your results suggest about dropout as a regularizer?"
      ]
    },
    {
      "metadata": {
        "id": "DFt1byOHNUcP",
        "colab_type": "text"
      },
      "cell_type": "markdown",
      "source": [
        "**Answer:** it can improve convergence at the beginning of training.\n"
      ]
    },
    {
      "metadata": {
        "id": "jR4eiFLbNUcT",
        "colab_type": "text"
      },
      "cell_type": "markdown",
      "source": [
        "## Inline Question 3 (1 point):\n",
        "Suppose we are training a deep fully-connected network for classification, with dropout after hidden layers (parameterized by keep probability p). How should we modify p, if at all, if we decide to decrease the size of the hidden layers (that is, the number of nodes in each layer)?"
      ]
    },
    {
      "metadata": {
        "id": "33_J2p6sNUcX",
        "colab_type": "text"
      },
      "cell_type": "markdown",
      "source": [
        "**Answer:** in this case p will be equal (k/n) where n - number of nodes at the beginning and k - desired number of nodes.\n"
      ]
    },
    {
      "metadata": {
        "id": "VULHOk9LNUca",
        "colab_type": "code",
        "colab": {}
      },
      "cell_type": "code",
      "source": [
        ""
      ],
      "execution_count": 0,
      "outputs": []
    },
    {
      "metadata": {
        "id": "IxX3bOIxNUcv",
        "colab_type": "text"
      },
      "cell_type": "markdown",
      "source": [
        "#### Max score: 6 points\n",
        "\n",
        "When scoring scale to 10: divide and round up"
      ]
    }
  ]
}